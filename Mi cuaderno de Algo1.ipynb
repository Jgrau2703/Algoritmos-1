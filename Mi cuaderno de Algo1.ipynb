{
 "cells": [
  {
   "cell_type": "markdown",
   "id": "97202f6e",
   "metadata": {},
   "source": [
    "# Este es mi cuaderno de Algoritmos 1"
   ]
  },
  {
   "cell_type": "markdown",
   "id": "fe4d9200",
   "metadata": {},
   "source": [
    "## Primera tarea sumativa\n",
    "Fue realizada utilizando recursividad debido a la simplicidad de hacerlo"
   ]
  },
  {
   "cell_type": "code",
   "execution_count": 1,
   "id": "34bfb15b",
   "metadata": {},
   "outputs": [],
   "source": [
    "#Esta es la primera tarea sumativa de algoritmos 1\n",
    "#A es una matriz dada en forma de una linea de numeros separadas por espacios y enters\n",
    "\n",
    "with open('ImagenIslas1.txt', 'r') as f:\n",
    "    A = [ [int(i) for i in linea.split(' ')] for linea in f]\n",
    "with open('ImagenIslas2.txt', 'r') as f:\n",
    "    B = [ [int(i) for i in linea.split(' ')] for linea in f]\n",
    "with open('ImagenIslas3.txt', 'r') as f:\n",
    "    C = [ [int(i) for i in linea.split(' ')] for linea in f]\n"
   ]
  },
  {
   "cell_type": "code",
   "execution_count": 5,
   "id": "8fdd7332",
   "metadata": {},
   "outputs": [],
   "source": [
    "#esta es una pequeña funcion recursiva que chequea las islas cuando se encuentra una\n",
    "def check_lados(M,coord, extension,f,c,m,n):\n",
    "    '''\n",
    "    esta función nos chequea los vecinos de un cuadro y nos avisa si\n",
    "    esos costados son parte de la isla. \n",
    "    M es la matriz de la imagen con las coordenadas y demas,\n",
    "    coord es una lista de coordenadas que forman parte de la isla,\n",
    "    extension es la cantidad de tierra que ya posee nuestra isla.\n",
    "\n",
    "    Si bien no cambié prácticamente nada de lo que era el algoritmo de mi tarea, creo que el mismo ya utilizaba\n",
    "    el concepto fundamental que se usa en un bfs, así que no sentí que hubiera valido la pena tratar de complicar\n",
    "    más el algoritmo intentando agregando objetos y otras estructuras auxiliares, espero esto no sea un problema.\n",
    "    '''\n",
    "    coord.append([f,c])\n",
    "    extension= extension +1\n",
    "    \n",
    "    if(f-1>-1):\n",
    "        if(M[f-1][c]==1 and not([f-1,c] in coord)):\n",
    "            coord,extension = check_lados(M,coord,extension,f-1,c,m,n)\n",
    "    if(f+1<m):\n",
    "        if(M[f+1][c]==1 and not([f+1,c] in coord)):\n",
    "            coord,extension = check_lados(M,coord,extension,f+1,c,m,n)\n",
    "    if(c-1>-1):\n",
    "        if(M[f][c-1]==1 and not([f,c-1] in coord)):\n",
    "            coord,extension = check_lados(M,coord,extension,f,c-1,m,n)\n",
    "    if(c+1<n):\n",
    "        if(M[f][c+1]==1 and not([f,c+1] in coord)):\n",
    "            coord,extension = check_lados(M,coord,extension,f,c+1,m,n)\n",
    "    \n",
    "    return coord, extension\n",
    "    "
   ]
  },
  {
   "cell_type": "code",
   "execution_count": 6,
   "id": "f0384779",
   "metadata": {},
   "outputs": [],
   "source": [
    "def constr_dic(M):\n",
    "    '''\n",
    "    Esta funcion construye un diccionario en el que va cargando islas, junto\n",
    "    con sus extensiones y coordenadas que forman parte de las mismas    \n",
    "    '''\n",
    "    #como M es una matriz, todas sus filas tienen igual cantidad de componentes\n",
    "    m = len(M)    #cantidad de filas\n",
    "    n = len(M[0]) #cantidad de columnas\n",
    "    \n",
    "    '''\n",
    "    Ejemplo de como queremos que se vea la estructura de una isla\n",
    "    dic_islas = {\"Isla1\":[ [\"Extension\",4,\"hectómetros\"], [\"Coordenadas\",[ [1,1], [1,2], ... ] ] ] }\n",
    "    '''\n",
    "    cant_islas = 0 #nos ayuda a nombrar las islas que van apareciendo\n",
    "    dic_islas = {} #aca guardamos las islas con sus extensiones y coordenadas\n",
    "    flag = 0 #nos indica cuando se encontro una isla\n",
    "    \n",
    "    for i in range(0,m):\n",
    "        for j in range(0,n):\n",
    "            if( M[i][j]==1):\n",
    "                flag = 1 #se encontro una potencial isla o parte de una isla anterior\n",
    "                \n",
    "                for x in dic_islas: \n",
    "                    if([i,j] in dic_islas[x][1][1][:]): #chequea si la coordenada ya esta en alguna de las islas anteriores\n",
    "                        flag = 0                        #si el pedazo ya estaba en otra isla, es una falsa alarma\n",
    "\n",
    "                #si la bandera sigue arriba, es porque se encontro una nueva isla\n",
    "                #si no, es porque la isla ya estaba\n",
    "                if(flag==1):\n",
    "                    cant_islas = cant_islas + 1\n",
    "                    #[coord, extension] = check_lados(M,[[i,j]], 1)\n",
    "                    coord, extension = check_lados(M,[], 0,i,j,m,n)\n",
    "                    dic_islas[\"Isla\" + str(cant_islas)] = [[\"Extension\",extension,\"hectómetros\"],\n",
    "                                                            [\"Coordenadas\",coord]];\n",
    "                    flag = 0\n",
    " \n",
    "    \n",
    "    #para visualizar nuestras islas y sus extensiones, no vemos las coordenadas pq estorban\n",
    "    for x in dic_islas:\n",
    "        print(x,\": \"+ dic_islas[x][0][0] +\", \"+ str(dic_islas[x][0][1]) +\" \"+ dic_islas[x][0][2])"
   ]
  },
  {
   "cell_type": "code",
   "execution_count": 7,
   "id": "0340a8c4",
   "metadata": {},
   "outputs": [
    {
     "name": "stdout",
     "output_type": "stream",
     "text": [
      "Isla1 : Extension, 8 hectómetros\n",
      "Isla2 : Extension, 6 hectómetros\n",
      "Isla3 : Extension, 7 hectómetros\n",
      "\n",
      "\n",
      "Isla1 : Extension, 10 hectómetros\n",
      "Isla2 : Extension, 6 hectómetros\n",
      "Isla3 : Extension, 9 hectómetros\n",
      "\n",
      "\n",
      "Isla1 : Extension, 28 hectómetros\n"
     ]
    }
   ],
   "source": [
    "constr_dic(A)\n",
    "print(\"\\n\")\n",
    "constr_dic(B)\n",
    "print(\"\\n\")\n",
    "constr_dic(C)"
   ]
  },
  {
   "cell_type": "code",
   "execution_count": 4,
   "id": "739a6292",
   "metadata": {
    "scrolled": false
   },
   "outputs": [
    {
     "name": "stdout",
     "output_type": "stream",
     "text": [
      "Isla1 : Extension, 8 hectómetros\n",
      "Isla2 : Extension, 6 hectómetros\n",
      "Isla3 : Extension, 7 hectómetros\n",
      "\n",
      "\n",
      "Isla1 : Extension, 10 hectómetros\n",
      "Isla2 : Extension, 6 hectómetros\n",
      "Isla3 : Extension, 9 hectómetros\n",
      "\n",
      "\n",
      "Isla1 : Extension, 28 hectómetros\n"
     ]
    }
   ],
   "source": [
    "#NO CORRER\n",
    "\n",
    "constr_dic(A)\n",
    "print(\"\\n\")\n",
    "constr_dic(B)\n",
    "print(\"\\n\")\n",
    "constr_dic(C)"
   ]
  },
  {
   "cell_type": "markdown",
   "id": "379ec840",
   "metadata": {},
   "source": [
    "# Segunda tarea sumativa\n",
    "En esta tarea usamos la estructura de pila, por lo cual importamos el documento en el que creamos este objeto"
   ]
  },
  {
   "cell_type": "code",
   "execution_count": 5,
   "id": "4effdcf2",
   "metadata": {},
   "outputs": [],
   "source": [
    "from Pila_Imp import Pila\n",
    "#Para probar\n",
    "cad1 = \"+9*26\" #debe salir 21\n",
    "cad2 = \"*-567\" #debe salir -7\n",
    "cad3 = \"-+8/632\" #debe salir 8\n",
    "cad4 = \"12+9*26\""
   ]
  },
  {
   "cell_type": "code",
   "execution_count": 6,
   "id": "8a4a5fd6",
   "metadata": {
    "scrolled": false
   },
   "outputs": [],
   "source": [
    "def evaluarExpresionPrefija(cadena):\n",
    "    cad_inv = [caracter for caracter in cadena]\n",
    "    cad_inv.reverse() #cargamos la cadena invertida en una lista  \n",
    "    numeros = Pila() #esto nos sirve para cargar los numeros en una lista separada\n",
    "    \n",
    "    for x in cad_inv:\n",
    "        if(x=='+'):\n",
    "            b = numeros.quitar()\n",
    "            a = numeros.quitar()\n",
    "            numeros.insertar(b+a)\n",
    "        elif(x=='-'):\n",
    "            b = numeros.quitar()\n",
    "            a = numeros.quitar()\n",
    "            numeros.insertar(b-a)\n",
    "        elif(x=='*'):\n",
    "            b = numeros.quitar()\n",
    "            a = numeros.quitar()\n",
    "            numeros.insertar(b*a)\n",
    "        elif(x=='/'):\n",
    "            b = numeros.quitar()\n",
    "            a = numeros.quitar()\n",
    "            numeros.insertar(b/a)\n",
    "        else:\n",
    "            numeros.insertar(int(x))\n",
    "    \n",
    "    if (numeros.tamanho()==1):\n",
    "        return numeros.quitar()\n",
    "    else:\n",
    "        print(\"Ocurrio un error!\") #no me paso pero por si llega a pasar que alguien mete algo raro"
   ]
  },
  {
   "cell_type": "code",
   "execution_count": 7,
   "id": "2d43cee9",
   "metadata": {},
   "outputs": [
    {
     "name": "stdout",
     "output_type": "stream",
     "text": [
      "21\n",
      "-7\n",
      "8.0\n",
      "Ocurrio un error!\n",
      "None\n"
     ]
    }
   ],
   "source": [
    "print(evaluarExpresionPrefija(cad1))\n",
    "print(evaluarExpresionPrefija(cad2))\n",
    "print(evaluarExpresionPrefija(cad3))\n",
    "print(evaluarExpresionPrefija(cad4))"
   ]
  },
  {
   "cell_type": "markdown",
   "id": "e7c6c010",
   "metadata": {},
   "source": [
    "# Tercera tarea sumativa\n",
    "En esta tarea se nos da un monto de dinero junto con un conjunto de tipos de monedas disponibles. Nuestra tarea es devolver el monto utilizando la minima cantidad de monedas posible, y luego devolver una lista con la cantidad de monedas de cada tipo utilizadas."
   ]
  },
  {
   "cell_type": "code",
   "execution_count": 8,
   "id": "b5a29a78",
   "metadata": {},
   "outputs": [],
   "source": [
    "#Esta es la tercera tarea sumativa de Algo1\n",
    "#Para probar\n",
    "M1 = 60000; #debe salir 3 de 20k\n",
    "M2 = 80000; #debe salir 4 de 20k\n",
    "M3 = 65000; #debe salir 3 de 20k y 5 de 1k\n",
    "d1  = [1000,20000,50000];\n",
    "#se asume que siempre se podra tener un monto \n",
    "#exactamente dividido por las denominaciones"
   ]
  },
  {
   "cell_type": "code",
   "execution_count": 9,
   "id": "308909e6",
   "metadata": {},
   "outputs": [],
   "source": [
    "def menos_monedas(M,denominaciones,len_inicial):\n",
    "    #M es el monto que queremos conseguir en monedas\n",
    "    #denominaciones son las denominaciones de las monedas \n",
    "    #i son la candidad de elementos de cada denominacion\n",
    "    monto = M;\n",
    "    den = denominaciones.copy();\n",
    "    den_inv = denominaciones.copy(); den_inv.reverse();\n",
    "    i_inv = [];\n",
    "    \n",
    "    #Creacion de la lista i correspondiente a esta iteracion\n",
    "    for d in den_inv:\n",
    "        i_inv.append(monto//d);\n",
    "        monto = monto % d;\n",
    "    i = i_inv; i.reverse();\n",
    "    i = i + [0]*(len_inicial-len(i_inv))\n",
    "    \n",
    "    #Condicion de parada en la recursion\n",
    "    if(len(den)>1):\n",
    "        den.pop()\n",
    "    else:\n",
    "        return i\n",
    "    \n",
    "    #Recursion\n",
    "    if( sum(i) < sum(menos_monedas(M,den,len_inicial)) ):\n",
    "        return i\n",
    "    else:\n",
    "        return menos_monedas(M,den,len_inicial)\n"
   ]
  },
  {
   "cell_type": "code",
   "execution_count": 10,
   "id": "976af033",
   "metadata": {},
   "outputs": [
    {
     "name": "stdout",
     "output_type": "stream",
     "text": [
      "[0, 3, 0]\n",
      "[0, 4, 0]\n",
      "[5, 3, 0]\n"
     ]
    }
   ],
   "source": [
    "print(menos_monedas(M1,d1,len(d1)))\n",
    "print(menos_monedas(M2,d1,len(d1)))\n",
    "print(menos_monedas(M3,d1,len(d1)))"
   ]
  },
  {
   "cell_type": "markdown",
   "id": "dabcff54",
   "metadata": {},
   "source": [
    "# Quinta tarea sumativa \n",
    "En esta tarea usamos la estructura de arboles binarios y de nodos. Luego vemos si un arbol esta balanceado o no."
   ]
  },
  {
   "cell_type": "code",
   "execution_count": 11,
   "id": "41d6bb14",
   "metadata": {},
   "outputs": [
    {
     "name": "stdout",
     "output_type": "stream",
     "text": [
      "El arbol es:\n",
      "2\n",
      "├────5\n",
      "│    ├────6\n",
      "│    └────3\n",
      "│         └────7\n",
      "└────1\n",
      "     └────6\n",
      "          ├────9\n",
      "          │    └────0\n",
      "          └────3\n",
      "El arbol es:\n",
      "2\n",
      "├────5\n",
      "│    ├────6\n",
      "│    └────3\n",
      "│         └────7\n",
      "└────1\n",
      "     ├────0\n",
      "     └────6\n",
      "          ├────9\n",
      "          └────3\n"
     ]
    }
   ],
   "source": [
    "#Esta es la quinta tarea sumativa de de algoritmos 1\n",
    "from nodos_y_arboles import *\n",
    "#Casos de prueba\n",
    "# Árbol 1 para la prueba (No es balanceado)\n",
    "arbol1 = ArbolBin(); \n",
    "nodo1 = Nodo(2); arbol1.raiz = nodo1\n",
    "nodo2 = Nodo(5); nodo2.padre = nodo1; nodo1.hijo_izq = nodo2\n",
    "nodo3 = Nodo(1); nodo3.padre = nodo1; nodo1.hijo_der = nodo3\n",
    "nodo4 = Nodo(6); nodo4.padre = nodo2; nodo2.hijo_izq = nodo4\n",
    "nodo5 = Nodo(3); nodo5.padre = nodo2; nodo2.hijo_der = nodo5\n",
    "nodo6 = Nodo(6); nodo6.padre = nodo3; nodo3.hijo_der = nodo6\n",
    "nodo7 = Nodo(7); nodo7.padre = nodo5; nodo5.hijo_izq = nodo7\n",
    "nodo8 = Nodo(9); nodo8.padre = nodo6; nodo6.hijo_izq = nodo8\n",
    "nodo9 = Nodo(3); nodo9.padre = nodo6; nodo6.hijo_der = nodo9\n",
    "nodo10 = Nodo(0); nodo10.padre = nodo8; nodo8.hijo_izq = nodo10\n",
    "arbol1.mostrarArbolBin()\n",
    "# Árbol 2 para la prueba (Es balanceado)\n",
    "arbol2 = ArbolBin(); \n",
    "nodo1 = Nodo(2); arbol2.raiz = nodo1\n",
    "nodo2 = Nodo(5); nodo2.padre = nodo1; nodo1.hijo_izq = nodo2\n",
    "nodo3 = Nodo(1); nodo3.padre = nodo1; nodo1.hijo_der = nodo3\n",
    "nodo4 = Nodo(6); nodo4.padre = nodo2; nodo2.hijo_izq = nodo4\n",
    "nodo5 = Nodo(3); nodo5.padre = nodo2; nodo2.hijo_der = nodo5\n",
    "nodo6 = Nodo(6); nodo6.padre = nodo3; nodo3.hijo_der = nodo6\n",
    "nodo7 = Nodo(7); nodo7.padre = nodo5; nodo5.hijo_izq = nodo7\n",
    "nodo8 = Nodo(9); nodo8.padre = nodo6; nodo6.hijo_izq = nodo8\n",
    "nodo9 = Nodo(3); nodo9.padre = nodo6; nodo6.hijo_der = nodo9\n",
    "nodo10 = Nodo(0); nodo10.padre = nodo3; nodo3.hijo_izq = nodo10\n",
    "arbol2.mostrarArbolBin()"
   ]
  },
  {
   "cell_type": "code",
   "execution_count": 12,
   "id": "92f8aad2",
   "metadata": {},
   "outputs": [],
   "source": [
    "#Funcion solicitada\n",
    "def esBalanceado(arbol):\n",
    "    '''\n",
    "    Función que retorna True si el árbol es balanceado, y False en caso contrario\n",
    "    '''\n",
    "    if arbol.raiz==None:\n",
    "        return True\n",
    "    else:\n",
    "        arbolAux1 = ArbolBin(); arbolAux2 = ArbolBin();\n",
    "        arbolAux1.raiz = arbol.raiz.hijo_izq\n",
    "        arbolAux2.raiz = arbol.raiz.hijo_der\n",
    "        if( abs(arbolAux1.altura()-arbolAux2.altura())>1 ):\n",
    "            return False\n",
    "        else:\n",
    "            return (esBalanceado(arbolAux1) and esBalanceado(arbolAux2))\n",
    "    del arbolAux1\n",
    "    del arbolAux2"
   ]
  },
  {
   "cell_type": "code",
   "execution_count": 13,
   "id": "4dbbd62e",
   "metadata": {},
   "outputs": [
    {
     "name": "stdout",
     "output_type": "stream",
     "text": [
      "False\n",
      "True\n"
     ]
    }
   ],
   "source": [
    "#Test de la función\n",
    "print(esBalanceado(arbol1))\n",
    "print(esBalanceado(arbol2))"
   ]
  },
  {
   "cell_type": "code",
   "execution_count": 14,
   "id": "1ac71460",
   "metadata": {},
   "outputs": [
    {
     "name": "stdout",
     "output_type": "stream",
     "text": [
      "4\n",
      "3\n",
      "2\n",
      "3\n"
     ]
    }
   ],
   "source": [
    "print(arbol1.altura())\n",
    "print(arbol2.altura())\n",
    "print(nodo4.nivel())\n",
    "print(nodo8.nivel())"
   ]
  },
  {
   "cell_type": "markdown",
   "id": "d5091f90",
   "metadata": {},
   "source": [
    "# Sexta Tarea Sumativa\n",
    "En esta tarea monitoreamos sondas colocadas en el amazonas y vemos si es que la sonda master puede comunicarse con todas las otras o no teniendo en cuenta el criterio de conexión-comunicación.\n",
    "## A continuación vemos algunos pasos preliminares"
   ]
  },
  {
   "cell_type": "code",
   "execution_count": 12,
   "id": "c4eaf3d6",
   "metadata": {},
   "outputs": [
    {
     "name": "stdout",
     "output_type": "stream",
     "text": [
      "4\n",
      "1 0 0 1 -1 0 0 -1\n",
      "8\n",
      "1 0 1 1 0 1 -1 1 -1 0 -1 -1 0 -1 1 -1\n",
      "6\n",
      "0 3 0 4 1 3 -1 3 -1 -4 -2 -5\n",
      "0\n"
     ]
    }
   ],
   "source": [
    "def leerArchivo(nombreArchivo):\n",
    "    lineas = []\n",
    "    with open(nombreArchivo, 'r') as f:\n",
    "        for linea in f:\n",
    "            lineas.append(linea.rstrip())\n",
    "    return lineas\n",
    "\n",
    "lineasEntrada = leerArchivo(\"entrada.txt\")\n",
    "for linea in lineasEntrada:\n",
    "    print(linea)"
   ]
  },
  {
   "cell_type": "code",
   "execution_count": 13,
   "id": "3dd67728",
   "metadata": {
    "scrolled": false
   },
   "outputs": [
    {
     "name": "stdout",
     "output_type": "stream",
     "text": [
      "x: 0\ty: 3\n",
      "x: 0\ty: 4\n",
      "x: 1\ty: 3\n",
      "x: -1\ty: 3\n",
      "x: -1\ty: -4\n",
      "x: -2\ty: -5\n"
     ]
    },
    {
     "data": {
      "image/png": "[encoded data removed]",
      "text/plain": [
       "<Figure size 432x288 with 1 Axes>"
      ]
     },
     "metadata": {
      "needs_background": "light"
     },
     "output_type": "display_data"
    }
   ],
   "source": [
    "import math\n",
    "\n",
    "#Definimos a un punto en el espacio bidimensional\n",
    "class Punto:\n",
    "    def __init__(self,x_ent,y_ent):\n",
    "        self.x=x_ent\n",
    "        self.y=y_ent\n",
    "    \n",
    "    def __str__(self):\n",
    "        return \"x: \"+str(self.x)+\"\\ty: \"+str(self.y)\n",
    "\n",
    "#Definimos la distancia usual\n",
    "def distancia(p1,p2):\n",
    "    return math.sqrt((p1.x-p2.x)**2 + (p1.y-p2.y)**2)\n",
    "\n",
    "#Función que obtiene las coordenadas de todos los n puntos en una línea (con el formato de entrada)\n",
    "def obtenerPuntos(n_cad,linea_val):\n",
    "    puntos = []\n",
    "    n = int(n_cad)\n",
    "    valores_cad = linea_val.split()\n",
    "    for i in range(n):\n",
    "        puntos.append( Punto( int(valores_cad[i*2]),int(valores_cad[i*2+1]) ) )\n",
    "    return puntos\n",
    "\n",
    "#Esto es solamente para visualizar la ubicación de los puntos para un caso de entrada dado (en el ejemplo dado, sería el caso 3)\n",
    "import matplotlib.pyplot as plt\n",
    "puntos= obtenerPuntos(lineasEntrada[4],lineasEntrada[5])\n",
    "for p in puntos:\n",
    "    print(p)\n",
    "X_puntos = []; Y_puntos = []\n",
    "for p in puntos:\n",
    "    X_puntos.append(p.x)\n",
    "    Y_puntos.append(p.y)\n",
    "\n",
    "plt.plot(X_puntos, Y_puntos, 'ro')\n",
    "plt.axis([-3, 3, -6, 5])\n",
    "plt.show()"
   ]
  },
  {
   "cell_type": "code",
   "execution_count": 14,
   "id": "10f439a4",
   "metadata": {},
   "outputs": [],
   "source": [
    "import networkx as nx\n",
    "import matplotlib.pyplot as plt\n",
    "\n",
    "#Por simplicidad, no se realizan ciertas verificaciones. \n",
    "#Por ejemplo: al agregar una arista, no se verifica que ambos vértices estén en el grafo.\n",
    "\n",
    "#Vertices con los debidos vecinos (lugar a donde dirige)\n",
    "class Vertice:\n",
    "    def __init__(self,x):\n",
    "        self.clave = x\n",
    "        self.vecinos = []  #lista de adyacencias\n",
    "        self.color = None\n",
    "        self.pi = None\n",
    "        self.d = None\n",
    "\n",
    "#Grafo no dirigido, sin pesos\n",
    "class Grafo_ND_SP: \n",
    "    def __init__(self):\n",
    "        self.vertices = []  #lista de vertices\n",
    "        \n",
    "    def agregarVertice(self,n):\n",
    "        self.vertices.append(n)\n",
    "    \n",
    "    def agregarArista(self,a,b): \n",
    "        a.vecinos.append(b)\n",
    "        b.vecinos.append(a)\n",
    "    \n",
    "    def mostrarVecinos(self):\n",
    "        print(\"Datos del grafo:\")\n",
    "        for u in self.vertices:\n",
    "            print(\"Vertice\",u.clave,\": \",end=\"\")\n",
    "            for v in u.vecinos:\n",
    "                print(v.clave,\" \",end=\"\")\n",
    "            print(\"\")\n",
    "        \n",
    "    def mostrarGrafo(self):\n",
    "        G = nx.Graph()\n",
    "        for u in self.vertices:\n",
    "            for v in u.vecinos:\n",
    "                G.add_edge(u.clave,v.clave)\n",
    "        nx.draw_circular(G,with_labels=True)\n",
    "        plt.show()\n",
    "        \n",
    "#Grafo dirigido, sin pesos\n",
    "class Grafo_D_SP: \n",
    "    def __init__(self):\n",
    "        self.vertices = []  #lista de vertices\n",
    "        \n",
    "    def agregarVertice(self,n):\n",
    "        self.vertices.append(n)\n",
    "    \n",
    "    #agrega una arista de A a B\n",
    "    def agregarArista(self,a,b): \n",
    "        a.vecinos.append(b)\n",
    "    \n",
    "    def mostrarVecinos(self):\n",
    "        print(\"Datos del grafo:\")\n",
    "        for u in self.vertices:\n",
    "            print(\"Vertice\",u.clave,\": \",end=\"\")\n",
    "            for v in u.vecinos:\n",
    "                print(v.clave,\" \",end=\"\")\n",
    "            print(\"\")\n",
    "        \n",
    "    def mostrarGrafo(self):\n",
    "        G = nx.DiGraph()\n",
    "        for u in self.vertices:\n",
    "            for v in u.vecinos:\n",
    "                G.add_edge(u.clave,v.clave)\n",
    "        nx.draw_circular(G,with_labels=True)\n",
    "        plt.show()    \n",
    "        \n",
    "    def BFS(self,s):\n",
    "        n = len(self.vertices)+1\n",
    "        for u in self.vertices:\n",
    "            u.color = \"BLANCO\"\n",
    "            u.d = n #distancia al vertice original\n",
    "            u.pi = None\n",
    "        s.color = \"GRIS\"\n",
    "        s.d = 0\n",
    "        s.pi = None\n",
    "        fila = Fila()\n",
    "        fila.insertar(s)\n",
    "        while not fila.esta_Vacia():\n",
    "            u = fila.quitar()\n",
    "            for v in u.vecinos:\n",
    "                if v.color == \"BLANCO\":\n",
    "                    v.color = \"GRIS\"\n",
    "                    v.d = u.d+1\n",
    "                    v.pi = u\n",
    "                    fila.insertar(v)\n",
    "            u.color = \"NEGRO\""
   ]
  },
  {
   "cell_type": "markdown",
   "id": "1f5bc8b9",
   "metadata": {},
   "source": [
    "## Resolución del ejercicio"
   ]
  },
  {
   "cell_type": "code",
   "execution_count": 15,
   "id": "9a64a28f",
   "metadata": {},
   "outputs": [],
   "source": [
    "import Fila_Imp\n",
    "\n",
    "def armarGrafo(lineas):\n",
    "    Grafos= []\n",
    "    m= len(lineas)-1\n",
    "    i=0\n",
    "    inf= math.inf\n",
    "    while (i!=m):\n",
    "        grafo= Grafo_D_SP()\n",
    "        if(lineas[i]!=0):\n",
    "            puntos= obtenerPuntos(lineas[i],lineas[i+1])\n",
    "            n=len(puntos)\n",
    "            #Aca agregue una modificacion que me recomendo el profe Colbes\n",
    "            listaVertices = []\n",
    "            for j in range(n):\n",
    "                listaVertices.append(Vertice(j+1))\n",
    "            \n",
    "            for j in range(n):\n",
    "                p_actual= puntos[j]\n",
    "                vecino1= Punto(inf,inf); vecino2= Punto(inf,inf);\n",
    "                #########################################\n",
    "                for k in range(n):\n",
    "                    p_comp= puntos[k]\n",
    "                    if(p_comp!=p_actual):\n",
    "                        #variables de comparacion, nos ayudan a entender lo que pasa\n",
    "                        d1= distancia(p_comp,p_actual)\n",
    "                        d2= distancia(vecino1,p_actual)            \n",
    "                        cond1= d1<d2\n",
    "                        cond2= (d1==d2)and(p_comp.x<vecino1.x)\n",
    "                        cond3= (d1==d2)and(p_comp.x==vecino1.x)and(p_comp.y<vecino1.y)\n",
    "                        cond=  cond1 or cond2 or cond3\n",
    "                        if(cond):\n",
    "                            vecino1= p_comp\n",
    "                            #mod\n",
    "                            vert1= listaVertices[k] #No creamos un nuevo objeto, solo accedemos a un elemento de la lista\n",
    "                ##########################################            \n",
    "                for k in range(n):\n",
    "                    p_comp= puntos[k]\n",
    "                    if(p_comp!=p_actual)and(p_comp!=vecino1):\n",
    "                        d1= distancia(p_comp,p_actual)\n",
    "                        d2= distancia(vecino2,p_actual)\n",
    "                        cond1= d1<d2\n",
    "                        cond2= (d1==d2)and(p_comp.x<vecino2.x)\n",
    "                        cond3= (d1==d2)and(p_comp.x==vecino2.x)and(p_comp.y<vecino2.y)\n",
    "                        cond=  cond1 or cond2 or cond3\n",
    "                        if(cond):\n",
    "                            vecino2= p_comp\n",
    "                            #mod\n",
    "                            vert2= listaVertices[k] #No creamos un nuevo objeto, solo accedemos a un elemento de la lista\n",
    "                ##########################################                              \n",
    "                vert0= listaVertices[j]\n",
    "                grafo.agregarVertice(vert0)\n",
    "                grafo.agregarArista(vert0,vert1)\n",
    "                grafo.agregarArista(vert0,vert2)\n",
    "            i= i+1\n",
    "        Grafos.append(grafo)\n",
    "        i= i+1\n",
    "    \n",
    "    return Grafos"
   ]
  },
  {
   "cell_type": "code",
   "execution_count": 16,
   "id": "45bfc432",
   "metadata": {},
   "outputs": [],
   "source": [
    "def buenaConexion(g):\n",
    "    s = g.vertices[0] #Suponemos que el grafo tiene al menos un vértice\n",
    "    g.BFS(s)\n",
    "    #Verificamos que todos los vértices sean de color negro\n",
    "    for v in g.vertices:\n",
    "        if v.color != \"NEGRO\":\n",
    "            print(v.clave)\n",
    "            return False\n",
    "    return True\n",
    "    "
   ]
  },
  {
   "cell_type": "code",
   "execution_count": 17,
   "id": "50b9fc32",
   "metadata": {},
   "outputs": [],
   "source": [
    "def resolverProblemas(lineas):\n",
    "    grafos= armarGrafo(lineas)\n",
    "    \n",
    "    for g in grafos: \n",
    "        g.mostrarGrafo()\n",
    "        \n",
    "        if(buenaConexion(g)):\n",
    "            print(\"Todas las estaciones son alcanzables\")\n",
    "        else:\n",
    "            print(\"No todas las estaciones son alcanzables\")"
   ]
  },
  {
   "cell_type": "markdown",
   "id": "cc9cf08a",
   "metadata": {},
   "source": [
    "## Salida"
   ]
  },
  {
   "cell_type": "code",
   "execution_count": 18,
   "id": "7981aece",
   "metadata": {},
   "outputs": [
    {
     "data": {
      "image/png": "[encoded data removed]",
      "text/plain": [
       "<Figure size 432x288 with 1 Axes>"
      ]
     },
     "metadata": {},
     "output_type": "display_data"
    },
    {
     "name": "stdout",
     "output_type": "stream",
     "text": [
      "Todas las estaciones son alcanzables\n"
     ]
    },
    {
     "data": {
      "image/png": "[encoded data removed]",
      "text/plain": [
       "<Figure size 432x288 with 1 Axes>"
      ]
     },
     "metadata": {},
     "output_type": "display_data"
    },
    {
     "name": "stdout",
     "output_type": "stream",
     "text": [
      "Todas las estaciones son alcanzables\n"
     ]
    },
    {
     "data": {
      "image/png": "[encoded data removed]",
      "text/plain": [
       "<Figure size 432x288 with 1 Axes>"
      ]
     },
     "metadata": {},
     "output_type": "display_data"
    },
    {
     "name": "stdout",
     "output_type": "stream",
     "text": [
      "3\n",
      "No todas las estaciones son alcanzables\n"
     ]
    }
   ],
   "source": [
    "lineasEntrada = leerArchivo(\"entrada.txt\")\n",
    "resolverProblemas(lineasEntrada)"
   ]
  },
  {
   "cell_type": "markdown",
   "id": "37fa181a",
   "metadata": {},
   "source": [
    "# Septima Tarea Sumativa\n",
    "En esta tarea guiaremos a un robot a lo largo de un laberinto por el camino más corto posible.\n",
    "## A continuación vemos algunos pasos preliminares"
   ]
  },
  {
   "cell_type": "code",
   "execution_count": 2,
   "id": "fbef7491",
   "metadata": {},
   "outputs": [],
   "source": [
    "import numpy as np\n",
    "\n",
    "def leerArchivo(nombreArchivo):\n",
    "    lineas = []\n",
    "    with open(nombreArchivo, 'r') as f:\n",
    "        for linea in f:\n",
    "            lineas.append(linea.rstrip())\n",
    "    return lineas\n",
    "\n",
    "def obtenerCaso(nombreArchivo):\n",
    "    lineas = leerArchivo(nombreArchivo)\n",
    "    matriz_car = []\n",
    "    valores_cad = lineas[0].split()\n",
    "    m = int(valores_cad[0])\n",
    "    n = int(valores_cad[1])\n",
    "    for j in range(m):\n",
    "        fila = []\n",
    "        fila_cad = lineas[j+1]\n",
    "        for x in fila_cad:\n",
    "            fila.append(x)\n",
    "        matriz_car.append(fila)\n",
    "    return matriz_car\n",
    "\n",
    "def imprimirMatriz(matriz):\n",
    "    for fila in matriz:\n",
    "        for x in fila:\n",
    "            print(x,end=\" \")\n",
    "        print(\"\")\n",
    "    print(\"\")"
   ]
  },
  {
   "cell_type": "code",
   "execution_count": 3,
   "id": "52008d61",
   "metadata": {},
   "outputs": [
    {
     "name": "stdout",
     "output_type": "stream",
     "text": [
      "0 0 1 0 0 0 0 0 1 1 1 0 1 1 1 1 1 0 \n",
      "0 0 1 0 0 1 1 0 0 0 0 0 0 0 0 0 1 0 \n",
      "0 0 1 0 0 0 1 0 0 1 0 1 1 1 1 1 1 0 \n",
      "0 0 1 1 1 0 1 0 0 1 1 1 0 0 0 0 0 0 \n",
      "0 0 0 0 1 0 1 0 0 0 0 1 0 0 0 0 0 0 \n",
      "0 i 0 0 1 0 1 0 0 1 0 1 1 1 1 1 1 1 \n",
      "0 0 0 0 1 0 1 0 0 1 0 0 0 0 0 0 0 0 \n",
      "0 0 1 0 1 0 1 0 0 1 0 0 0 0 0 0 0 f \n",
      "0 0 1 0 0 0 1 0 0 1 0 0 0 0 0 0 0 0 \n",
      "\n"
     ]
    }
   ],
   "source": [
    "laberinto1= obtenerCaso(\"Caso1Tarea7.txt\")\n",
    "imprimirMatriz(laberinto1)"
   ]
  },
  {
   "cell_type": "code",
   "execution_count": 15,
   "id": "0f0f6687",
   "metadata": {},
   "outputs": [],
   "source": [
    "def coordValida(f,c,m,n,mat,val):\n",
    "    if (f<0 or c<0 or f>=m or c>=n):\n",
    "        return False\n",
    "    elif (mat[f][c]==m*n or mat[f][c]<=val):\n",
    "        return False\n",
    "    else:\n",
    "        return True\n",
    "    \n",
    "def coordValida2(f,c,m,n,mat,val):\n",
    "    if (f<0 or c<0 or f>=m or c>=n):\n",
    "        return False\n",
    "    elif (mat[f][c]>=val):\n",
    "        return False\n",
    "    else:\n",
    "        return True\n",
    "\n",
    "def matDistancia(laberinto):\n",
    "    m= len(laberinto)\n",
    "    n= len(laberinto[0])\n",
    "    matDist= (m*n-1)*np.ones((m,n),dtype=int)\n",
    "    for f in range(m):\n",
    "        for c in range(n):\n",
    "            if (laberinto[f][c]=='i'):\n",
    "                f_inicio= f; c_inicio= c;\n",
    "                matDist[f][c]= 0\n",
    "            elif(laberinto[f][c]=='f'):\n",
    "                f_fin= f; c_fin= c;\n",
    "            elif(laberinto[f][c]=='1'):\n",
    "                matDist[f][c]= m*n\n",
    "    def dist_rec(af,ac,am,an,amat,aval):    \n",
    "        vecinos= [(1,0),(-1,0),(0,1),(0,-1)];\n",
    "        for v in vecinos:\n",
    "            p=af+v[0]; q= ac+v[1];\n",
    "            if(coordValida(p,q,am,an,amat,aval+1)):\n",
    "                amat[p][q]=aval+1\n",
    "                dist_rec(p,q,am,an,amat,aval+1)\n",
    "    dist_rec(f_inicio,c_inicio,m,n,matDist,0)\n",
    "    #print(matDist)\n",
    "    return [matDist,f_fin,c_fin]\n",
    "\n",
    "def obtenerCamino(mat,f,c):\n",
    "    m= len(mat); n= len(mat[0])\n",
    "    camino=[(f,c)]\n",
    "    def camino_rec(amat,af,ac,acam,am,an):\n",
    "        vecinos= [(1,0),(-1,0),(0,1),(0,-1)];\n",
    "        for v in vecinos:\n",
    "            p= af+v[0]; q= ac+v[1];\n",
    "            if(coordValida2(p,q,am,an,amat,amat[af][ac])):\n",
    "                acam.append((p,q))\n",
    "                camino_rec(amat,p,q,acam,am,an)\n",
    "                break    \n",
    "    camino_rec(mat,f,c,camino,m,n)\n",
    "    camino.reverse()\n",
    "    return camino\n",
    "\n",
    "def responderPreguntas(laberinto):\n",
    "    [matDist,f_fin,c_fin]= matDistancia(laberinto)\n",
    "    resp1= (matDist[f_fin][c_fin]!=len(laberinto)*len(laberinto[0])-1)\n",
    "    if(resp1):\n",
    "        resp2= matDist[f_fin][c_fin]\n",
    "        resp3= obtenerCamino(matDist,f_fin,c_fin)\n",
    "    else:\n",
    "        resp2= None\n",
    "        resp3= None\n",
    "    return [resp1,resp2,resp3]   "
   ]
  },
  {
   "cell_type": "code",
   "execution_count": 5,
   "id": "97ff4eee",
   "metadata": {},
   "outputs": [
    {
     "name": "stdout",
     "output_type": "stream",
     "text": [
      "¿Es posible llegar al final desde el inicio? True\n",
      "La distancia es: 36\n",
      "La trayectoria del inicio a fin es: \n",
      "\n",
      " [(5, 1), (5, 2), (5, 3), (6, 3), (7, 3), (8, 3), (8, 4), (8, 5), (7, 5), (6, 5), (5, 5), (4, 5), (3, 5), (2, 5), (2, 4), (1, 4), (0, 4), (0, 5), (0, 6), (0, 7), (1, 7), (1, 8), (2, 8), (3, 8), (4, 8), (4, 9), (4, 10), (5, 10), (6, 10), (6, 11), (6, 12), (6, 13), (6, 14), (6, 15), (6, 16), (6, 17), (7, 17)]\n"
     ]
    }
   ],
   "source": [
    "[resp1,resp2,resp3]= responderPreguntas(laberinto1)\n",
    "\n",
    "#Pregunta 1: ¿Se puede alcanzar la posición final desde la inicial?\n",
    "print(\"¿Es posible llegar al final desde el inicio?\",resp1)\n",
    "\n",
    "#Pregunta 2: ¿Cuál es la distancia mínima entre el inicio y el final?\n",
    "if resp1:\n",
    "    print(\"La distancia es:\",resp2)\n",
    "    \n",
    "if resp1:\n",
    "    print(\"La trayectoria del inicio a fin es:\",\"\\n\\n\",resp3)\n",
    "    #imprimirCaminoMasCorto(camino1)"
   ]
  },
  {
   "cell_type": "code",
   "execution_count": 6,
   "id": "d06b75ae",
   "metadata": {},
   "outputs": [],
   "source": [
    "#De aquí en adelante es un \"bonus\", solo para visualizar mejor la solución#\n",
    "def generarMatrizCamino(laberinto,camino):\n",
    "    #Inicializacion\n",
    "    m = len(laberinto) #cantidad de filas\n",
    "    n = len(laberinto[0]) #cantidad de columnas\n",
    "    matrizCamino = []\n",
    "    for i in range(m):\n",
    "        fil=[]\n",
    "        for j in range(n):\n",
    "            if laberinto[i][j]==\"1\":\n",
    "                fil.append(2) #para los obstaculos\n",
    "            elif laberinto[i][j]==\"i\" or laberinto[i][j]==\"f\":\n",
    "                fil.append(3) #para el inicio y el final\n",
    "            else:\n",
    "                fil.append(0)\n",
    "        matrizCamino.append(fil)\n",
    "    #Marcamos el camino\n",
    "    for x,y in camino:\n",
    "        if matrizCamino[x][y] == 0:\n",
    "            matrizCamino[x][y] = 1\n",
    "    return matrizCamino\n",
    "\n",
    "import matplotlib.pyplot as plt\n",
    "def mostrarSolucion(matrizCamino):\n",
    "    fig, ax = plt.subplots()\n",
    "    ax.matshow(matrizCamino, cmap=plt.cm.Blues)\n",
    "    plt.axis('off')\n",
    "    plt.show()"
   ]
  },
  {
   "cell_type": "code",
   "execution_count": 7,
   "id": "ff146a4d",
   "metadata": {},
   "outputs": [
    {
     "data": {
      "image/png": "[encoded data removed]",
      "text/plain": [
       "<Figure size 432x288 with 1 Axes>"
      ]
     },
     "metadata": {
      "needs_background": "light"
     },
     "output_type": "display_data"
    }
   ],
   "source": [
    "if resp1:\n",
    "    matrizCamino1 = generarMatrizCamino(laberinto1,resp3)\n",
    "    mostrarSolucion(matrizCamino1)"
   ]
  },
  {
   "cell_type": "code",
   "execution_count": 8,
   "id": "4d107c7b",
   "metadata": {},
   "outputs": [
    {
     "name": "stdout",
     "output_type": "stream",
     "text": [
      "[False, None, None]\n"
     ]
    }
   ],
   "source": [
    "laberinto2= obtenerCaso(\"Caso2Tarea7.txt\")\n",
    "print(responderPreguntas(laberinto2))"
   ]
  },
  {
   "cell_type": "markdown",
   "id": "6f33af50",
   "metadata": {},
   "source": [
    "# Octava Tarea Sumativa\n",
    "Determinaremos cual de los algoritmos proporcionados nos devuelve un MST y luego lo probaremos."
   ]
  },
  {
   "attachments": {
    "CapturaTarea8.JPG": {
     "image/jpeg": "[encoded data removed]"
    }
   },
   "cell_type": "markdown",
   "id": "af879172",
   "metadata": {},
   "source": [
    "![CapturaTarea8.JPG](attachment:CapturaTarea8.JPG)"
   ]
  },
  {
   "cell_type": "markdown",
   "id": "54462109",
   "metadata": {},
   "source": [
    "## Análisis\n",
    "a) El algoritmo A nos devuelve un MST al tomar el grafo inicial con todas sus aristas e ir descartando las que no resultan indispensables para tener un arbol de tendido, en un orden en el cual las de mayor peso son descartadas primero si es que se cumple la condición de que no son insdispensables.\n",
    "\n",
    "b) El algoritmo B no nos asegura de que T sea un MST puesto que el mismo va agregando aristas cualesquiera y revisando si el grafo tiene o no ciclos, sin embargo al no tener en cuenta el peso, nada dice que las aristas agregadas serán las que resultan en un MST.\n",
    "\n",
    "c) El algoritmo C nos devuelve un MST, el mismo sigue una estrategia similar a la del algoritmo anterior, pero cuando se encuentra un ciclo, se elimina la arista de mayor peso que pertenece a este cilo. Este algoritmo en mi parecer resulta mucho menos eficiente que lo que se observa en el primer algoritmo, puesto que hay que analizar el subgrafo originado cada vez que se genera un ciclo y esto toma mucho más tiempo que el revisar cada arista una sola vez y ver si puede ser eliminada o no."
   ]
  },
  {
   "cell_type": "markdown",
   "id": "d2de6016",
   "metadata": {},
   "source": [
    "## Pasos preliminares"
   ]
  },
  {
   "cell_type": "code",
   "execution_count": 16,
   "id": "563f9a60",
   "metadata": {},
   "outputs": [],
   "source": [
    "import networkx as nx\n",
    "import matplotlib.pyplot as plt\n",
    "import copy\n",
    "from Fila_Imp import Fila\n",
    "\n",
    "class Vertice:\n",
    "    def __init__(self,x):\n",
    "        self.clave = x\n",
    "        self.vecinos = []  #lista de adyacencias y pesos (como tuplas)\n",
    "        self.grupo = -1 #identificador de los grupos que van formándose\n",
    "        self.color = None\n",
    "        self.pi = None\n",
    "        self.d = None\n",
    "###############################################################################        \n",
    "class Grafo_ND_P: #Grafo no dirigido, con pesos\n",
    "    def __init__(self):\n",
    "        self.vertices = [] #lista de vertices\n",
    "        self.aristas = [] #aristas con pesos (a,b,w)\n",
    "        \n",
    "    def agregarVertice(self,a):\n",
    "        self.vertices.append(a)\n",
    "        \n",
    "    def agregarArista(self,a,b,peso):\n",
    "        a.vecinos.append((b,peso))\n",
    "        b.vecinos.append((a,peso))\n",
    "        self.aristas.append((a,b,peso))\n",
    "    \n",
    "    def quitarArista(self,a,b,peso):\n",
    "        a.vecinos.remove((b,peso))\n",
    "        b.vecinos.remove((a,peso))\n",
    "        self.aristas.remove((a,b,peso))\n",
    "       \n",
    "    def copiar(self):\n",
    "        return copy.deepcopy(self)\n",
    "    \n",
    "    def mostrarGrafo(self,tipo=\"circular\"):\n",
    "        G = nx.Graph()\n",
    "        for u in self.vertices:\n",
    "            G.add_node(u.clave) #para mostrar vértices sin aristas incidentes o de salida\n",
    "        for u,v,p in self.aristas:\n",
    "            G.add_edge(u.clave,v.clave,weight=p)\n",
    "        if tipo==\"spectral\":\n",
    "            pos = nx.spectral_layout(G)\n",
    "        elif tipo==\"shell\":\n",
    "            pos = nx.shell_layout(G)\n",
    "        elif tipo==\"random\":\n",
    "            pos = nx.random_layout(G)\n",
    "        elif tipo==\"spring\":\n",
    "            pos = nx.spring_layout(G)\n",
    "        else:\n",
    "            pos = nx.circular_layout(G)\n",
    "        labels = nx.get_edge_attributes(G,'weight')\n",
    "        nx.draw_networkx(G,pos,node_size=700)\n",
    "        nx.draw_networkx_edge_labels(G,pos,edge_labels=labels)\n",
    "        plt.axis('off')\n",
    "        plt.show()\n",
    "        \n",
    "    def BFS(self,s):\n",
    "        n = len(self.vertices)+1\n",
    "        for u in self.vertices:\n",
    "            u.color = \"BLANCO\"\n",
    "            u.d = n #distancia al vertice original\n",
    "            u.pi = None\n",
    "        s.color = \"GRIS\"\n",
    "        s.d = 0\n",
    "        s.pi = None\n",
    "        fila = Fila()\n",
    "        fila.insertar(s)\n",
    "        while not fila.esta_Vacia():\n",
    "            u = fila.quitar()\n",
    "            for v in [ u.vecinos[i][0] for i in range(len(u.vecinos)) ]:\n",
    "                if v.color == \"BLANCO\":\n",
    "                    v.color = \"GRIS\"\n",
    "                    v.d = u.d+1\n",
    "                    v.pi = u\n",
    "                    fila.insertar(v)\n",
    "            u.color = \"NEGRO\"\n",
    "###############################################################################\n",
    "def leerArchivo(nombreArchivo):\n",
    "    lineas = []\n",
    "    with open(nombreArchivo, 'r') as f:\n",
    "        for linea in f:\n",
    "            lineas.append(linea)\n",
    "    return lineas\n",
    "\n",
    "def leerGrafoArchivo(nombreArchivo):\n",
    "    Graf = Grafo_ND_P()\n",
    "    lineas = leerArchivo(nombreArchivo)\n",
    "    claves = {}\n",
    "    vertices = lineas[0].split()\n",
    "    for clav in vertices:\n",
    "        v = Vertice(clav)\n",
    "        Graf.agregarVertice(v)\n",
    "        claves[clav] = v\n",
    "    \n",
    "    for i in range(1,len(lineas)):\n",
    "        linea = lineas[i]\n",
    "        x = linea.split()\n",
    "        v1 = claves[x[0]] \n",
    "        v2 = claves[x[1]]\n",
    "        peso = x[2]\n",
    "        Graf.agregarArista(v1,v2,int(peso))\n",
    "    return Graf\n",
    "\n",
    "def conectado(g):\n",
    "    s = g.vertices[0] #Suponemos que el grafo tiene al menos un vértice\n",
    "    g.BFS(s)\n",
    "    #Verificamos que todos los vértices sean de color negro\n",
    "    for v in g.vertices:\n",
    "        if v.color != \"NEGRO\":\n",
    "            return False\n",
    "    return True\n",
    "\n",
    "def algoritmoA(grafo):\n",
    "    #Ordenamos las aristas de mayor a menor peso\n",
    "    grafo.aristas.sort(key=lambda x:x[2] ,reverse=True)\n",
    "    #Aca empieza lo nuevo\n",
    "    m= len(grafo.aristas)\n",
    "    cont= 0\n",
    "    for i in range(m):\n",
    "        auxG= grafo.copiar()\n",
    "        auxG.quitarArista(auxG.aristas[cont][0],auxG.aristas[cont][1],auxG.aristas[cont][2])\n",
    "        if conectado(auxG):\n",
    "            grafo.quitarArista(grafo.aristas[cont][0],grafo.aristas[cont][1],grafo.aristas[cont][2])\n",
    "        else:\n",
    "            cont= cont+1\n",
    "        del auxG"
   ]
  },
  {
   "cell_type": "code",
   "execution_count": 17,
   "id": "8a28a3c6",
   "metadata": {
    "scrolled": false
   },
   "outputs": [
    {
     "name": "stdout",
     "output_type": "stream",
     "text": [
      "Primea prueba:\n",
      "\n",
      "Grafo original\n"
     ]
    },
    {
     "data": {
      "image/png": "[encoded data removed]",
      "text/plain": [
       "<Figure size 432x288 with 1 Axes>"
      ]
     },
     "metadata": {},
     "output_type": "display_data"
    },
    {
     "name": "stdout",
     "output_type": "stream",
     "text": [
      "\n",
      "\n",
      "Grafo final\n"
     ]
    },
    {
     "data": {
      "image/png": "[encoded data removed]",
      "text/plain": [
       "<Figure size 432x288 with 1 Axes>"
      ]
     },
     "metadata": {},
     "output_type": "display_data"
    },
    {
     "name": "stdout",
     "output_type": "stream",
     "text": [
      "Segunda prueba:\n",
      "\n",
      "Grafo original\n"
     ]
    },
    {
     "data": {
      "image/png": "[encoded data removed]",
      "text/plain": [
       "<Figure size 432x288 with 1 Axes>"
      ]
     },
     "metadata": {},
     "output_type": "display_data"
    },
    {
     "name": "stdout",
     "output_type": "stream",
     "text": [
      "\n",
      "\n",
      "Grafo final\n"
     ]
    },
    {
     "data": {
      "image/png": "[encoded data removed]",
      "text/plain": [
       "<Figure size 432x288 with 1 Axes>"
      ]
     },
     "metadata": {},
     "output_type": "display_data"
    }
   ],
   "source": [
    "print(\"Primea prueba:\")\n",
    "grafoTest1 = leerGrafoArchivo(\"grafo_Kruskal_1.txt\")\n",
    "print(\"\\nGrafo original\")\n",
    "grafoTest1.mostrarGrafo()\n",
    "print(\"\")\n",
    "algoritmoA(grafoTest1)\n",
    "print(\"\\nGrafo final\")\n",
    "grafoTest1.mostrarGrafo()\n",
    "\n",
    "print(\"Segunda prueba:\")\n",
    "grafoTest2 = leerGrafoArchivo(\"grafo_Kruskal_2.txt\")\n",
    "print(\"\\nGrafo original\")\n",
    "grafoTest2.mostrarGrafo()\n",
    "print(\"\")\n",
    "algoritmoA(grafoTest2)\n",
    "print(\"\\nGrafo final\")\n",
    "grafoTest2.mostrarGrafo()"
   ]
  },
  {
   "cell_type": "markdown",
   "id": "444a41d4",
   "metadata": {},
   "source": [
    "# Novena Tarea Sumativa\n",
    "Tillería y las ciudades\n",
    "\n",
    "Jorge Tillería es el presidente de Paraguay, en donde existen n ciudades (enumeradas de 1 a n, siendo 1\n",
    "la capital). Se cuenta con m caminos que conectan a dichas ciudades. Se puede ir desde la ciudad ui a vi\n",
    "(y viceversa) empleando el camino i, cuyo tiempo de recorrido es xi. Además, existen k rutas de tren\n",
    "en el país. Se puede emplear la ruta de tren i para ir desde la capital del país a la ciudad si (y viceversa),\n",
    "con un tiempo de viaje yi.\n",
    "Jorge no quiere gastar innecesariamente el dinero del país, por lo que planea cerrar algunas de las rutas\n",
    "de tren. Tu trabajo consiste en decirle a Jorge la cantidad máxima de rutas de tren que puede cerrar\n",
    "bajo la siguiente condición: el tiempo del camino más corto desde cada ciudad a la capital no debe\n",
    "cambiar."
   ]
  },
  {
   "cell_type": "markdown",
   "id": "f6f2e275",
   "metadata": {},
   "source": [
    "## Pasos preliminares para poder leer los archivos de texto"
   ]
  },
  {
   "cell_type": "code",
   "execution_count": 29,
   "id": "e1a04c93",
   "metadata": {},
   "outputs": [],
   "source": [
    "import networkx as nx\n",
    "import matplotlib.pyplot as plt\n",
    "from ColaPrioridad_Imp import Cola_Prioridad\n",
    "\n",
    "#Por simplicidad, no se realizan ciertas verificaciones. \n",
    "#Por ejemplo: al agregar una arista, no se verifica que ambos vértices estén en el grafo.\n",
    "\n",
    "class Vertice:\n",
    "    def __init__(self,x):\n",
    "        self.clave = x\n",
    "        self.vecinos = []  #lista de adyacencias y pesos (como tuplas)\n",
    "        self.pi = None\n",
    "        self.d = None\n",
    "    \n",
    "    #Para realizar las comparaciones dentro de la cola de prioridad\n",
    "    \n",
    "    def __lt__(self, other):\n",
    "        return self.d < other.d\n",
    "    \n",
    "    def __gt__(self, other):\n",
    "        return self.d > other.d\n",
    "    \n",
    "    #Para poder agregar como clave en un diccionario \n",
    "    #(https://stackoverflow.com/questions/10254594/what-makes-a-user-defined-class-unhashable)\n",
    "    def __hash__(self):\n",
    "        return id(self)\n",
    "\n",
    "class Grafo_ND_P: #Grafo dirigido, sin pesos\n",
    "    def __init__(self):\n",
    "        self.vertices = []  #aquí usaremos lista en lugar de conjunto\n",
    "        \n",
    "    def agregarVertice(self,n):\n",
    "        self.vertices.append(n)\n",
    "    \n",
    "    def agregarArista(self,a,b,peso):\n",
    "        a.vecinos.append((b,peso))\n",
    "        b.vecinos.append((a,peso))\n",
    "        \n",
    "        \n",
    "    def mostrarVecinos(self):\n",
    "        for u in self.vertices:\n",
    "            print(\"Vertice\",u.clave,\": \",end=\"\")\n",
    "            for v,p in u.vecinos:\n",
    "                print(v.clave,\"(\",p,\") \",end=\"\",sep='')\n",
    "            print(\"\")\n",
    "    \n",
    "    def buscarNodo(self,clave):\n",
    "        for u in self.vertices:\n",
    "            if u.clave == clave:\n",
    "                return u\n",
    "        return None\n",
    "    \n",
    "    def mostrarGrafo(self):\n",
    "        G = nx.Graph()\n",
    "        for u in self.vertices:\n",
    "            G.add_node(u.clave) #para mostrar vértices sin aristas incidentes o de salida\n",
    "        for u in self.vertices:\n",
    "            for v,p in u.vecinos:\n",
    "                G.add_edge(u.clave,v.clave,weight=p)\n",
    "        pos = nx.circular_layout(G)\n",
    "        labels = nx.get_edge_attributes(G,'weight')\n",
    "        nx.draw_networkx(G,pos,node_size=700)\n",
    "        nx.draw_networkx_edge_labels(G,pos,edge_labels=labels)\n",
    "        for a in pos:\n",
    "            u = self.buscarNodo(a)\n",
    "            x,y=pos[a]\n",
    "            plt.text(x,y+0.2,s=str(u.d), bbox=dict(facecolor='red', alpha=0.5),horizontalalignment='center')\n",
    "        plt.axis('off')\n",
    "        plt.show()\n",
    "        \n",
    "def leerArchivo(nombreArchivo):\n",
    "    lineas = []\n",
    "    with open(nombreArchivo, 'r') as f:\n",
    "        for linea in f:\n",
    "            lineas.append(linea)\n",
    "    return lineas\n",
    "\n",
    "def leerGrafoArchivo(nombreArchivo):\n",
    "    Graf = Grafo_ND_P()\n",
    "    lineas = leerArchivo(nombreArchivo)\n",
    "    claves = {}\n",
    "    vertices = lineas[0].split()\n",
    "    for vert in vertices:\n",
    "        v = Vertice(vert)\n",
    "        Graf.agregarVertice(v)\n",
    "        claves[vert] = v\n",
    "    \n",
    "    for i in range(1,len(lineas)):\n",
    "        linea = lineas[i]\n",
    "        x = linea.split()\n",
    "        v1 = claves[x[0]] \n",
    "        v2 = claves[x[1]]\n",
    "        peso = x[2]\n",
    "        Graf.agregarArista(v1,v2,int(peso))\n",
    "    return Graf\n",
    "\n",
    "def buscarAristaMayorPeso(G):\n",
    "    for u in G.vertices:\n",
    "        if len(u.vecinos)>0:\n",
    "            maximo = u.vecinos[0][1]\n",
    "    for u in G.vertices:\n",
    "        for v,p in u.vecinos:\n",
    "            if maximo<p:\n",
    "                maximo=p\n",
    "    return maximo\n",
    "\n",
    "def inicializar_Dist_Grafo(G,s):\n",
    "    pesoMax = buscarAristaMayorPeso(G)\n",
    "    n = len(G.vertices)\n",
    "    for v in G.vertices:\n",
    "        v.d = n*pesoMax\n",
    "        v.pi = None\n",
    "    s.d = 0\n",
    "\n",
    "def relajar(u,v,p):\n",
    "    if v.d > u.d + p:\n",
    "        v.d = u.d + p\n",
    "        v.pi = u\n",
    "\n",
    "def Dijkstra(G,s):\n",
    "    inicializar_Dist_Grafo(G,s)\n",
    "    S=[]\n",
    "    Q = Cola_Prioridad()\n",
    "    for u in G.vertices:\n",
    "        Q.insertar(u)\n",
    "    while not Q.esta_Vacia():\n",
    "        u = Q.quitar()\n",
    "        S.append(u)\n",
    "        for v,p in u.vecinos:\n",
    "            relajar(u,v,p)\n",
    "    return S\n",
    "\n",
    "def generarArbolDistMin(G):\n",
    "    g = Grafo_ND_P()\n",
    "    mapeo = {} \n",
    "    for u in G.vertices: #Mapeo de vértices del grafo original y del árbol \n",
    "        v = Vertice(u.clave)\n",
    "        v.d = u.d\n",
    "        mapeo[u]=v\n",
    "        g.agregarVertice(v)\n",
    "    for u in G.vertices: #Aristas del árbol\n",
    "        padre = u.pi\n",
    "        if padre != None:\n",
    "            for w,p in padre.vecinos:\n",
    "                if w is u:\n",
    "                    g.agregarArista(mapeo[u.pi],mapeo[u],p)\n",
    "    return g\n",
    "\n",
    "##################################################################\n",
    "#Nuevas formas de leer para el ejercicio\n",
    "def leerGrafoArchivoSinVias(nombreArchivo):\n",
    "    Graf = Grafo_ND_P()\n",
    "    lineas = leerArchivo(nombreArchivo)\n",
    "    linea0 = lineas[0].split()\n",
    "    lineas.pop(0)\n",
    "    claves = {}\n",
    "    n= int(linea0[0]); m= int(linea0[1]); k= int(linea0[2])\n",
    "    for i in range(1,n+1):\n",
    "        v = Vertice(i)\n",
    "        Graf.agregarVertice(v)\n",
    "        claves[i] = v\n",
    "    for i in range(m):\n",
    "        linea = lineas[i]\n",
    "        x = linea.split()\n",
    "        if i<m:\n",
    "            v1 = claves[int(x[0])] \n",
    "            v2 = claves[int(x[1])]\n",
    "            peso = int(x[2])\n",
    "            Graf.agregarArista(v1,v2,peso)\n",
    "    return Graf,k\n",
    "            \n",
    "def leerGrafoArchivoConVias(nombreArchivo):\n",
    "    Graf = Grafo_ND_P()\n",
    "    lineas = leerArchivo(nombreArchivo)\n",
    "    linea0 = lineas[0].split()\n",
    "    lineas.pop(0)\n",
    "    claves = {}\n",
    "    n= int(linea0[0]); m= int(linea0[1]); k= int(linea0[2])\n",
    "    for i in range(1,n+1):\n",
    "        v = Vertice(i)\n",
    "        Graf.agregarVertice(v)\n",
    "        claves[i] = v\n",
    "    \n",
    "    for i in range(m+k):\n",
    "        linea = lineas[i]\n",
    "        x = linea.split()\n",
    "        if i<m:\n",
    "            v1 = claves[int(x[0])] \n",
    "            v2 = claves[int(x[1])]\n",
    "            peso = int(x[2])\n",
    "            Graf.agregarArista(v1,v2,peso)\n",
    "        else:\n",
    "            v1 = claves[1]\n",
    "            v2 = claves[int(x[0])]\n",
    "            peso = int(x[1])\n",
    "            Graf.agregarArista(v1,v2,peso)\n",
    "    return Graf,k\n",
    "\n",
    "#Nueva funcion\n",
    "def contarViasAEliminar(nombreArchivo):\n",
    "    grafo1,k= leerGrafoArchivoSinVias(nombreArchivo)\n",
    "    grafo2,k= leerGrafoArchivoConVias(nombreArchivo)\n",
    "    \n",
    "    capital1= grafo1.buscarNodo(1)\n",
    "    capital2= grafo2.buscarNodo(1)\n",
    "    \n",
    "    vertices1 = Dijkstra(grafo1,capital1)\n",
    "    vertices2 = Dijkstra(grafo2,capital2)\n",
    "    \n",
    "    cont= 0\n",
    "    for i in range(len(vertices1)):\n",
    "        if vertices1[i].d!=vertices2[i].d:\n",
    "            cont= cont+1\n",
    "            \n",
    "    return k-cont"
   ]
  },
  {
   "cell_type": "code",
   "execution_count": 26,
   "id": "7f99f532",
   "metadata": {
    "scrolled": true
   },
   "outputs": [
    {
     "name": "stdout",
     "output_type": "stream",
     "text": [
      "2\n"
     ]
    }
   ],
   "source": [
    "print(contarViasAEliminar(\"Caso1Tarea9.txt\"))"
   ]
  },
  {
   "cell_type": "code",
   "execution_count": 27,
   "id": "16fb466f",
   "metadata": {},
   "outputs": [
    {
     "name": "stdout",
     "output_type": "stream",
     "text": [
      "2\n"
     ]
    }
   ],
   "source": [
    "print(contarViasAEliminar(\"Caso2Tarea9.txt\"))"
   ]
  },
  {
   "cell_type": "markdown",
   "id": "7e737799",
   "metadata": {},
   "source": [
    "# Decima Tarea Sumativa\n",
    "Simulación de desplazamiento de lava\n",
    "\n",
    "Se desea simular el desplazamiento de la lava de un volcán a lo\n",
    "largo de la ladera de este. Representamos la ladera por una\n",
    "superficie rectangular cuadriculada (matriz rectangular\n",
    "ladera[M][N], donde M y N son números impares). Para cada\n",
    "casilla de esa superficie conoceremos su altura respecto al nivel\n",
    "del mar, expresado por un valor entre 0 y 99.\n",
    "El comportamiento de la lava se rige por las siguientes reglas:\n",
    "\n",
    "• La lava fluye desde la casilla en que está situada el cráter\n",
    "del volcán (en el centro de la matriz).\n",
    "\n",
    "• Dada una casilla alcanzada por la lava, esta fluye a todas\n",
    "las casillas vecinas que se encuentren a una altura\n",
    "estrictamente menor. Se considera como vecinas a las\n",
    "casillas que están inmediatamente por encima, por\n",
    "debajo, a la izquierda y a la derecha (es decir, las\n",
    "diagonales no son consideradas como vecinas).\n",
    "\n",
    "Se requiere conocer todas las casillas que serán alcanzadas por\n",
    "la lava. Para ello, se debe crear una matriz que contenga True si la casilla respectiva es alcanzada por la\n",
    "lava, o False en caso contrario. Esta matriz debe ser mostrada en pantalla al final del proceso.\n",
    "Se proporciona el archivo alturas.txt con los datos de la matriz ladera. La primera línea contiene\n",
    "las dimensiones de la matriz, y en las siguientes se tienen sus elementos (una línea por cada fila, donde\n",
    "los elementos están separados por espacios).\n"
   ]
  },
  {
   "attachments": {
    "Ejemplo.JPG": {
     "image/jpeg": "[encoded data removed]"
    }
   },
   "cell_type": "markdown",
   "id": "3af393b5",
   "metadata": {},
   "source": [
    "![Ejemplo.JPG](attachment:Ejemplo.JPG)"
   ]
  },
  {
   "cell_type": "markdown",
   "id": "2113dac6",
   "metadata": {},
   "source": [
    "## Solución"
   ]
  },
  {
   "cell_type": "code",
   "execution_count": 24,
   "id": "e1bf1af1",
   "metadata": {},
   "outputs": [],
   "source": [
    "def leerArchivo(nombreArchivo):\n",
    "    lineas = []\n",
    "    with open(nombreArchivo, 'r') as f:\n",
    "        for linea in f:\n",
    "            lineas.append(linea)\n",
    "    return lineas\n",
    "\n",
    "def recuperarMatrizLadera(nombreArchivo):\n",
    "    lineas = leerArchivo(nombreArchivo)\n",
    "    linea0 = lineas[0].split()\n",
    "    m= int(linea0[0]); n= int(linea0[1])\n",
    "    lineas.pop(0)\n",
    "    #Armamos la matriz ladera\n",
    "    A = [ [int(i) for i in linea.split()] for linea in lineas]\n",
    "    #Armamos la matriz logica\n",
    "    B = [ [0 for c in range(n)] for f in range(m)]\n",
    "    #Devolvemos las matrices\n",
    "    return A,B,m,n\n",
    "\n",
    "def pintarLava(A,B,f,c,m,n):\n",
    "    B[f][c]= 1   \n",
    "    if(f-1>-1):\n",
    "        if(B[f-1][c]==0 and A[f-1][c]<A[f][c]):\n",
    "            pintarLava(A,B,f-1,c,m,n)\n",
    "    if(f+1<m):\n",
    "        if(B[f+1][c]==0 and A[f+1][c]<A[f][c]):\n",
    "            pintarLava(A,B,f+1,c,m,n)\n",
    "    if(c-1>-1):\n",
    "        if(B[f][c-1]==0 and A[f][c-1]<A[f][c]):\n",
    "            pintarLava(A,B,f,c-1,m,n)\n",
    "    if(c+1<n):\n",
    "        if(B[f][c+1]==0 and A[f][c+1]<A[f][c]):\n",
    "            pintarLava(A,B,f,c+1,m,n)\n",
    "\n",
    "import matplotlib.pyplot as plt\n",
    "def generarGrafico(matrizLogica):\n",
    "    fig, ax = plt.subplots()\n",
    "    ax.matshow(matrizLogica, cmap=plt.cm.Blues)\n",
    "    #plt.axis('off')\n",
    "    plt.show()"
   ]
  },
  {
   "cell_type": "code",
   "execution_count": 25,
   "id": "b7032cce",
   "metadata": {
    "scrolled": true
   },
   "outputs": [
    {
     "data": {
      "image/png": "[encoded data removed]",
      "text/plain": [
       "<Figure size 432x288 with 1 Axes>"
      ]
     },
     "metadata": {
      "needs_background": "light"
     },
     "output_type": "display_data"
    }
   ],
   "source": [
    "A,B,m,n= recuperarMatrizLadera(\"alturasTarea10.txt\")\n",
    "\n",
    "pintarLava(A,B,int((m-1)/2),int((n-1)/2),m,n)\n",
    "\n",
    "generarGrafico(B)"
   ]
  }
 ],
 "metadata": {
  "kernelspec": {
   "display_name": "Python 3 (ipykernel)",
   "language": "python",
   "name": "python3"
  },
  "language_info": {
   "codemirror_mode": {
    "name": "ipython",
    "version": 3
   },
   "file_extension": ".py",
   "mimetype": "text/x-python",
   "name": "python",
   "nbconvert_exporter": "python",
   "pygments_lexer": "ipython3",
   "version": "3.9.7"
  }
 },
 "nbformat": 4,
 "nbformat_minor": 5
}
